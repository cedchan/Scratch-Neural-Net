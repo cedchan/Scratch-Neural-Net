{
 "cells": [
  {
   "cell_type": "code",
   "execution_count": 63,
   "metadata": {},
   "outputs": [],
   "source": [
    "import numpy as np\n",
    "import pandas as pd\n",
    "from matplotlib import pyplot as plt"
   ]
  },
  {
   "cell_type": "code",
   "execution_count": 64,
   "metadata": {},
   "outputs": [],
   "source": [
    "data = pd.read_csv('train.csv')"
   ]
  },
  {
   "cell_type": "code",
   "execution_count": 65,
   "metadata": {},
   "outputs": [],
   "source": [
    "data = np.array(data)\n",
    "m, n = data.shape\n",
    "\n",
    "np.random.shuffle(data)\n",
    "data_dev = data[0:1000].T\n",
    "Y_dev = data_dev[0]\n",
    "X_dev = data_dev[1:] / 0xFF\n",
    "\n",
    "data_train = data[1000:].T\n",
    "Y_train = data_train[0]\n",
    "X_train = data_train[1:] / 0xFF"
   ]
  },
  {
   "cell_type": "code",
   "execution_count": 75,
   "metadata": {},
   "outputs": [],
   "source": [
    "def init_params(arch = [784, 16, 10]):\n",
    "    W = []\n",
    "    B = []\n",
    "    for i, l in enumerate(arch[:-1]):\n",
    "        W.append(np.random.rand(arch[i + 1], l) - 0.5)\n",
    "        B.append(np.random.rand(arch[i + 1], 1) - 0.5)\n",
    "\n",
    "    return W, B\n",
    "\n",
    "def ReLU(Z):\n",
    "    return np.maximum(0, Z)\n",
    "\n",
    "def softmax(Z):\n",
    "    return np.exp(Z) / np.sum(np.exp(Z), axis=0)\n",
    "\n",
    "def forward_prop(W, B, X):\n",
    "    Z = []\n",
    "    A = []\n",
    "    A_prev = X\n",
    "    for w, b in zip(W, B):\n",
    "        Z.append(z := w.dot(A_prev) + b)\n",
    "        A.append(A_prev := ReLU(z))\n",
    "    A[-1] = softmax(Z[-1])  # Change last ReLU to softmax\n",
    "    return Z, A\n",
    "\n",
    "def one_hot(Y):\n",
    "    one_hot_Y = np.zeros((Y.size, np.max(Y) + 1))\n",
    "    one_hot_Y[np.arange(Y.size), Y] = 1\n",
    "    return one_hot_Y.T\n",
    "\n",
    "def deriv_ReLU(Z):\n",
    "    return Z > 0\n",
    "\n",
    "def back_prop(Z, A, W, X, Y):\n",
    "    m = Y.size\n",
    "    one_hot_Y = one_hot(Y)\n",
    "    \n",
    "    dW = []\n",
    "    dB = []\n",
    "    dz = A[-1] - one_hot_Y  # Partial derivative of quadratic cost\n",
    "    for z, a, w in zip(Z[-2::-1], A[-2::-1], W[:0:-1]):\n",
    "        dW.append(1 / m * dz.dot(a.T))\n",
    "        dB.append(1 / m * np.sum(dz))\n",
    "        dz = w.T.dot(dz) * deriv_ReLU(z)\n",
    "    \n",
    "    dW.append(1 / m * dz.dot(X.T))\n",
    "    dB.append(1 / m * np.sum(dz))\n",
    "\n",
    "    return dW[::-1], dB[::-1]\n",
    "\n",
    "def update_params(W, B, dW, dB, alpha):\n",
    "    W_new = []\n",
    "    B_new = []\n",
    "    for w, b, dw, db in zip(W, B, dW, dB):\n",
    "        W_new.append(w - alpha * dw)\n",
    "        B_new.append(b - alpha * db)\n",
    "    return W_new, B_new"
   ]
  },
  {
   "cell_type": "code",
   "execution_count": 80,
   "metadata": {},
   "outputs": [],
   "source": [
    "def get_predictions(A):\n",
    "    return np.argmax(A, 0)\n",
    "\n",
    "def get_accuracy(predictions, Y):\n",
    "    # print(predictions, Y)\n",
    "    return np.sum(predictions == Y) / Y.size\n",
    "\n",
    "def gradient_descent(X, Y, iterations, alpha, arch):\n",
    "    acc = []\n",
    "    W, B = init_params(arch) if arch else init_params()\n",
    "    for i in range(iterations):\n",
    "        Z, A = forward_prop(W, B, X)\n",
    "        dW, dB = back_prop(Z, A, W, X, Y)\n",
    "        W, B = update_params(W, B, dW, dB, alpha)\n",
    "\n",
    "        if i % 50 == 0:\n",
    "            acc.append(get_accuracy(get_predictions(A[-1]), Y))\n",
    "            print(\"Iteration: \", i)\n",
    "            print(\"Accuracy: \", acc[-1])\n",
    "    return W, B, acc"
   ]
  },
  {
   "cell_type": "code",
   "execution_count": 85,
   "metadata": {},
   "outputs": [
    {
     "name": "stdout",
     "output_type": "stream",
     "text": [
      "Iteration:  0\n",
      "Accuracy:  0.0624390243902439\n",
      "Iteration:  50\n",
      "Accuracy:  0.7575853658536585\n",
      "Iteration:  100\n",
      "Accuracy:  0.8196585365853658\n",
      "Iteration:  150\n",
      "Accuracy:  0.8468780487804878\n",
      "Iteration:  200\n",
      "Accuracy:  0.8645853658536585\n",
      "Iteration:  250\n",
      "Accuracy:  0.8773414634146341\n",
      "Iteration:  300\n",
      "Accuracy:  0.8863414634146342\n",
      "Iteration:  350\n",
      "Accuracy:  0.8937073170731707\n",
      "Iteration:  400\n",
      "Accuracy:  0.9001463414634147\n",
      "Iteration:  450\n",
      "Accuracy:  0.9050975609756098\n"
     ]
    }
   ],
   "source": [
    "W, B, acc = gradient_descent(X_train, Y_train, 500, 0.1, [784, 256, 10])"
   ]
  },
  {
   "cell_type": "code",
   "execution_count": 89,
   "metadata": {},
   "outputs": [
    {
     "data": {
      "text/plain": [
       "0.903"
      ]
     },
     "execution_count": 89,
     "metadata": {},
     "output_type": "execute_result"
    }
   ],
   "source": [
    "# Test Accuracy\n",
    "\n",
    "Z_test, A_test = forward_prop(W, B, X_dev)\n",
    "get_accuracy(get_predictions(A_test[-1]), Y_dev)"
   ]
  },
  {
   "cell_type": "code",
   "execution_count": 86,
   "metadata": {},
   "outputs": [
    {
     "data": {
      "text/plain": [
       "[<matplotlib.lines.Line2D at 0x1dbad4fee90>]"
      ]
     },
     "execution_count": 86,
     "metadata": {},
     "output_type": "execute_result"
    },
    {
     "data": {
      "image/png": "[encoded data removed]",
      "text/plain": [
       "<Figure size 640x480 with 1 Axes>"
      ]
     },
     "metadata": {},
     "output_type": "display_data"
    }
   ],
   "source": [
    "plt.plot(50 * np.arange(len(acc)), acc)"
   ]
  }
 ],
 "metadata": {
  "kernelspec": {
   "display_name": "Python 3",
   "language": "python",
   "name": "python3"
  },
  "language_info": {
   "codemirror_mode": {
    "name": "ipython",
    "version": 3
   },
   "file_extension": ".py",
   "mimetype": "text/x-python",
   "name": "python",
   "nbconvert_exporter": "python",
   "pygments_lexer": "ipython3",
   "version": "3.10.11"
  },
  "orig_nbformat": 4
 },
 "nbformat": 4,
 "nbformat_minor": 2
}
